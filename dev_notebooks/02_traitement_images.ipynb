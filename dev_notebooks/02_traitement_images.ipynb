{
 "cells": [
  {
   "cell_type": "markdown",
   "metadata": {},
   "source": [
    "# Traitements des images"
   ]
  },
  {
   "cell_type": "code",
   "execution_count": 4,
   "metadata": {},
   "outputs": [],
   "source": [
    "import os\n",
    "from PIL import Image\n",
    "\n",
    "Image.MAX_IMAGE_PIXELS = 100000000"
   ]
  },
  {
   "cell_type": "markdown",
   "metadata": {},
   "source": [
    "Les images tests (résolution 0.1) sont contenues dans `/data/download_test/` et sont au format `EEEE-NNNN.tif`.\n",
    "\n",
    "Les images font 10'000 x 10'000 pixels, il faut donc augmenter la limite de PIL pour que les images puissent être lues."
   ]
  },
  {
   "cell_type": "code",
   "execution_count": 5,
   "metadata": {},
   "outputs": [],
   "source": [
    "input_dir = \"../data/download_test/\"\n",
    "output_dir = \"../data/img_reduites/\""
   ]
  },
  {
   "cell_type": "code",
   "execution_count": 6,
   "metadata": {},
   "outputs": [
    {
     "data": {
      "text/plain": [
       "['2593-1119.tif',\n",
       " '2593-1120.tif',\n",
       " '2593-1121.tif',\n",
       " '2594-1120.tif',\n",
       " '2594-1121.tif']"
      ]
     },
     "execution_count": 6,
     "metadata": {},
     "output_type": "execute_result"
    }
   ],
   "source": [
    "os.listdir(input_dir)"
   ]
  },
  {
   "cell_type": "code",
   "execution_count": 7,
   "metadata": {},
   "outputs": [],
   "source": [
    "new_width, new_height = 2000, 2000"
   ]
  },
  {
   "cell_type": "code",
   "execution_count": 14,
   "metadata": {},
   "outputs": [],
   "source": [
    "coords = filename.split(\".\")[0]\n",
    "ecoord, ncoord = coords.split('-')"
   ]
  },
  {
   "cell_type": "code",
   "execution_count": 16,
   "metadata": {},
   "outputs": [
    {
     "data": {
      "text/plain": [
       "'1119'"
      ]
     },
     "execution_count": 16,
     "metadata": {},
     "output_type": "execute_result"
    }
   ],
   "source": [
    "ncoord"
   ]
  },
  {
   "cell_type": "code",
   "execution_count": 17,
   "metadata": {},
   "outputs": [],
   "source": [
    "for filename in os.listdir(input_dir):\n",
    "\n",
    "    img = Image.open(os.path.join(input_dir, filename))\n",
    "\n",
    "    coords = filename.split(\".\")[0]\n",
    "    ecoord, ncoord = coords.split('-')\n",
    "    \n",
    "    for e in range(5):\n",
    "        for n in range(5):\n",
    "            left = e * new_width\n",
    "            upper = n * new_height\n",
    "            right = (e + 1) * new_width\n",
    "            lower = (n + 1) * new_height\n",
    "\n",
    "            # Crop the region from the original image\n",
    "            new_image = img.crop((left, upper, right, lower))\n",
    "\n",
    "            new_filename = f\"{ecoord}{e*2}-{ncoord}{n*2}.tif\"\n",
    "            new_image.save(os.path.join(output_dir, new_filename))"
   ]
  },
  {
   "cell_type": "code",
   "execution_count": null,
   "metadata": {},
   "outputs": [],
   "source": []
  }
 ],
 "metadata": {
  "kernelspec": {
   "display_name": "Python 3",
   "language": "python",
   "name": "python3"
  },
  "language_info": {
   "codemirror_mode": {
    "name": "ipython",
    "version": 3
   },
   "file_extension": ".py",
   "mimetype": "text/x-python",
   "name": "python",
   "nbconvert_exporter": "python",
   "pygments_lexer": "ipython3",
   "version": "3.12.2"
  }
 },
 "nbformat": 4,
 "nbformat_minor": 2
}
