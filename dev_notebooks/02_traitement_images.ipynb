{
 "cells": [
  {
   "cell_type": "markdown",
   "metadata": {},
   "source": [
    "# Traitements des images"
   ]
  },
  {
   "cell_type": "code",
   "execution_count": 1,
   "metadata": {},
   "outputs": [],
   "source": [
    "import os\n",
    "from PIL import Image\n",
    "\n",
    "# Augmenter la taille max des images\n",
    "Image.MAX_IMAGE_PIXELS = 100000000"
   ]
  },
  {
   "cell_type": "markdown",
   "metadata": {},
   "source": [
    "Les images tests (résolution 0.1) sont contenues dans `/data/download_test/` et sont au format `EEEE-NNNN.tif`.\n",
    "\n",
    "Les images font 10'000 x 10'000 pixels, il faut donc augmenter la limite de PIL pour que les images puissent être lues."
   ]
  },
  {
   "cell_type": "code",
   "execution_count": 2,
   "metadata": {},
   "outputs": [],
   "source": [
    "def formatter_nombre(nombre):\n",
    "    # Convertir le nombre en chaîne\n",
    "    nombre_str = str(nombre)\n",
    "    \n",
    "    # S'il est décimal\n",
    "    if '.' in nombre_str:\n",
    "        # Si décimal entier, le convertir en int\n",
    "        if nombre.is_integer():\n",
    "            return str(int(nombre))\n",
    "        # Sinon, retourner sans décimale\n",
    "        else:\n",
    "            return nombre_str.replace('.', '')\n",
    "    # Si le nombre est un entier, le retourner tel quel\n",
    "    else:\n",
    "        return nombre_str"
   ]
  },
  {
   "cell_type": "code",
   "execution_count": 3,
   "metadata": {},
   "outputs": [],
   "source": [
    "# input_dir = \"../data/download_test/\"\n",
    "input_dir = \"../data/download_by_bbox/\"\n",
    "output_dir = \"../data/img_reduites/\""
   ]
  },
  {
   "cell_type": "markdown",
   "metadata": {},
   "source": [
    "À partir d'une taille d'image, découper les originales en petits carrés, dont le nom correspond aux coordonnées"
   ]
  },
  {
   "cell_type": "code",
   "execution_count": 4,
   "metadata": {},
   "outputs": [],
   "source": [
    "# Définir les tailles d'image à tester\n",
    "# image_sizes = [500, 1000, 2000]\n",
    "image_sizes = [1000]\n",
    "\n",
    "# Pour chaque taille choisie\n",
    "for size in image_sizes:\n",
    "    # Définir les nouvelles largeur et hauteur\n",
    "    new_width, new_height = size, size\n",
    "\n",
    "    # Doit diviser 10'000 en entier\n",
    "    if 10000 % new_width != 0:\n",
    "        raise Exception(\"Doit être un diviseur de 10'000\")\n",
    "\n",
    "    # Correspond au nombre de division effectuées\n",
    "    divisions = 10000 // new_width\n",
    "\n",
    "    # Ajuster le dir en fonction\n",
    "    output_dir_size = output_dir + str(size) + \"/\"\n",
    "\n",
    "    # Pour chaque image de base\n",
    "    for filename in os.listdir(input_dir):\n",
    "\n",
    "        #  Ouvrir l'image\n",
    "        img = Image.open(os.path.join(input_dir, filename))\n",
    "\n",
    "        # Récupérer les coordonnées est (x) et nord (y)\n",
    "        coords = filename.split(\".\")[0]\n",
    "        ecoord, ncoord = coords.split('-')\n",
    "        \n",
    "        # Itérer pour chaque membre de la mosaïque\n",
    "        for e in range(divisions):\n",
    "            for n in range(divisions):\n",
    "                left = e * new_width\n",
    "                upper = n * new_height\n",
    "                right = (e + 1) * new_width\n",
    "                lower = (n + 1) * new_height\n",
    "\n",
    "                # Croper l'image avec les nouvelles coordonnées\n",
    "                new_image = img.crop((left, upper, right, lower))\n",
    "\n",
    "                # Calculer l'échelle de changement\n",
    "                coords_augm = new_width / 1000\n",
    "                \n",
    "                # Calculer les coordonnées hectométriques\n",
    "                ecoord_compl = formatter_nombre(e*coords_augm)\n",
    "                # PIL part du haut gauche alors que les coords de l'image sont en bas à gauche\n",
    "                ncoord_compl = formatter_nombre((divisions-n-1)*coords_augm)\n",
    "\n",
    "                # Enregistrer l'image avec les nouvelles coordonnées\n",
    "                new_filename = f\"{ecoord}{ecoord_compl}-{ncoord}{ncoord_compl}.tif\"\n",
    "                new_image.save(os.path.join(output_dir_size, new_filename))"
   ]
  },
  {
   "cell_type": "markdown",
   "metadata": {},
   "source": [
    "Convertir les images du dossier de .tif à .jpg"
   ]
  },
  {
   "cell_type": "code",
   "execution_count": 13,
   "metadata": {},
   "outputs": [],
   "source": [
    "img_input_dir = output_dir + '/1000'\n",
    "img_output_dir = img_input_dir + '/jpg'\n",
    "\n",
    "for filename in os.listdir(img_input_dir):\n",
    "    with Image.open(os.path.join(img_input_dir, filename)) as img:\n",
    "        # Créer le nom et chemin\n",
    "        out_name = os.path.splitext(filename)[0] + '.jpg'\n",
    "        out_path = os.path.join(img_output_dir, out_name)\n",
    "        \n",
    "        # Exporter en jpeg\n",
    "        img.save(out_path, 'JPEG')"
   ]
  },
  {
   "cell_type": "code",
   "execution_count": null,
   "metadata": {},
   "outputs": [],
   "source": []
  }
 ],
 "metadata": {
  "kernelspec": {
   "display_name": "Python 3",
   "language": "python",
   "name": "python3"
  },
  "language_info": {
   "codemirror_mode": {
    "name": "ipython",
    "version": 3
   },
   "file_extension": ".py",
   "mimetype": "text/x-python",
   "name": "python",
   "nbconvert_exporter": "python",
   "pygments_lexer": "ipython3",
   "version": "3.12.2"
  }
 },
 "nbformat": 4,
 "nbformat_minor": 2
}
