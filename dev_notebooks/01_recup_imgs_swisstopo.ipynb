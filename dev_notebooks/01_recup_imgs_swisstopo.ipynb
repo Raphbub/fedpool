{
 "cells": [
  {
   "cell_type": "markdown",
   "metadata": {},
   "source": [
    "# Récupérer des images depuis swisstopo\n",
    "\n",
    "Le but de ce notebook est de tester la possibilité d'utiliser l'API STAC (SpatioTemporal Asset Catalog) afin de lister et télécharger des images d'intérêt depuis swisstopo."
   ]
  },
  {
   "cell_type": "code",
   "execution_count": 11,
   "metadata": {},
   "outputs": [],
   "source": [
    "import pystac\n",
    "import requests"
   ]
  },
  {
   "cell_type": "markdown",
   "metadata": {},
   "source": [
    "## Récupération du nom du jeu de données SWISSIMAGES via l'API"
   ]
  },
  {
   "cell_type": "markdown",
   "metadata": {},
   "source": [
    "Il faut récupérer le nom du jeu de données [SWISSMAGES](https://www.swisstopo.admin.ch/fr/orthophotos-swissimage-10-cm). Les [infos générales](https://www.geo.admin.ch/fr/interface-rest-api-stac/) de l'API indiquent que l'adresse principale est `https://data.geo.admin.ch/api/stac/v0.9/` et la documentation détaillée est disponible [ici](https://data.geo.admin.ch/api/stac/static/spec/v0.9/api.html)."
   ]
  },
  {
   "cell_type": "code",
   "execution_count": 9,
   "metadata": {},
   "outputs": [],
   "source": [
    "stac_api_url = (\"https://data.geo.admin.ch/api/stac/v0.9\")"
   ]
  },
  {
   "cell_type": "markdown",
   "metadata": {},
   "source": [
    "On récupère les ids de toutes les collections disponibles ([doc](https://data.geo.admin.ch/api/stac/static/spec/v0.9/api.html#tag/Data/operation/getCollections)). Attention, les collections sont limités à 100 dans l'array `collections` retourné. Il faut utiliser le lien avec la `rel : \"next\"` contenu dans l'array `links` de l'objet contenant `{collections : [...], links : [...]}` !"
   ]
  },
  {
   "cell_type": "code",
   "execution_count": 33,
   "metadata": {},
   "outputs": [
    {
     "name": "stdout",
     "output_type": "stream",
     "text": [
      "['ch.agroscope.feuchtflaechenpotential-kulturlandschaft', 'ch.are.agglomerationsverkehr', 'ch.are.alpenkonvention']\n"
     ]
    }
   ],
   "source": [
    "# Stockage des ids\n",
    "collection_ids = []\n",
    "\n",
    "# GET sur les collections\n",
    "response = requests.get(f\"{stac_api_url}/collections\")\n",
    "\n",
    "# Vérification du succès\n",
    "if response.status_code == 200:\n",
    "    # Parse le json\n",
    "    collections_data = response.json()\n",
    "\n",
    "    # Extraire les ids des collections\n",
    "    collection_ids.extend(collection[\"id\"] for collection in collections_data.get(\"collections\"))\n",
    "\n",
    "    # Enchaîner avec les prochaines pages/liens\n",
    "    while True:\n",
    "        # Récupère le lien avec next ou retourne None si absent (dernier lien)\n",
    "        next_link = next((link for link in collections_data.get(\"links\") if link.get(\"rel\") == \"next\"), None)\n",
    "        if next_link:\n",
    "            # Récupérer l'url\n",
    "            next_url = next_link[\"href\"]\n",
    "\n",
    "            # Répéter les opérations précédentes\n",
    "            response = requests.get(next_url)\n",
    "            \n",
    "            # Vérification du succès\n",
    "            if response.status_code == 200:\n",
    "                # Parse le json\n",
    "                collections_data = response.json()\n",
    "\n",
    "                # Extraire les ids des collections\n",
    "                collection_ids.extend(collection[\"id\"] for collection in collections_data.get(\"collections\"))\n",
    "            else:\n",
    "                print(\"Échec. Erreur\", response.status_code)\n",
    "                break\n",
    "        else:\n",
    "            break  # Plus de lien \"next\"\n",
    "else:\n",
    "    print(\"Échec. Erreur\", response.status_code)\n",
    "\n",
    "print('\\n'.join(collection_ids[0:3]))"
   ]
  },
  {
   "cell_type": "markdown",
   "metadata": {},
   "source": [
    "On identifie les fournisseurs de données, qui viennent juste après le `ch.`. Ce sont généralement les abréviations allemandes des offices fédéraux (are (ODT), astra (OFROU), etc.)."
   ]
  },
  {
   "cell_type": "code",
   "execution_count": 39,
   "metadata": {},
   "outputs": [
    {
     "name": "stdout",
     "output_type": "stream",
     "text": [
      "['agroscope', 'are', 'armasuisse', 'astra', 'babs', 'bafu', 'bag', 'bak', 'bakom', 'baspo', 'bav', 'bazl', 'bfe', 'bfs', 'blw', 'ensi', 'meteoschweiz', 'pronatura', 'sem', 'swisstopo', 'swisstopo-vd', 'vbs']\n"
     ]
    }
   ],
   "source": [
    "fournisseurs = set(id.split(\".\")[1] for id in collection_ids)\n",
    "print(sorted(fournisseurs))"
   ]
  },
  {
   "cell_type": "markdown",
   "metadata": {},
   "source": [
    "Le founisseur qui nous intéresse est `swisstopo`, on regarde donc les jeux de données mis à disposition qui contiennent le mot `image`"
   ]
  },
  {
   "cell_type": "code",
   "execution_count": 43,
   "metadata": {},
   "outputs": [
    {
     "name": "stdout",
     "output_type": "stream",
     "text": [
      "ch.swisstopo.swissimage-dop10\n"
     ]
    }
   ],
   "source": [
    "for collection_id in collection_ids:\n",
    "    if \"swisstopo\" in collection_id and \"image\" in collection_id:\n",
    "        print(collection_id)"
   ]
  },
  {
   "cell_type": "markdown",
   "metadata": {},
   "source": [
    "Le jeu de données des images est donc `ch.swisstopo.swissimage-dop10`"
   ]
  },
  {
   "cell_type": "markdown",
   "metadata": {},
   "source": [
    "## Jeu de données SWISSIMAGE - Infos et téléchargement(s)"
   ]
  },
  {
   "cell_type": "code",
   "execution_count": 45,
   "metadata": {},
   "outputs": [],
   "source": [
    "id_swimage = \"ch.swisstopo.swissimage-dop10\""
   ]
  },
  {
   "cell_type": "code",
   "execution_count": 51,
   "metadata": {},
   "outputs": [],
   "source": [
    "# GET sur le jeu de données\n",
    "response = requests.get(f\"{stac_api_url}/collections/{id_swimage}\")\n",
    "infos_jdd = response.json()"
   ]
  },
  {
   "cell_type": "code",
   "execution_count": null,
   "metadata": {},
   "outputs": [],
   "source": []
  }
 ],
 "metadata": {
  "kernelspec": {
   "display_name": "Python 3",
   "language": "python",
   "name": "python3"
  },
  "language_info": {
   "codemirror_mode": {
    "name": "ipython",
    "version": 3
   },
   "file_extension": ".py",
   "mimetype": "text/x-python",
   "name": "python",
   "nbconvert_exporter": "python",
   "pygments_lexer": "ipython3",
   "version": "3.12.2"
  }
 },
 "nbformat": 4,
 "nbformat_minor": 2
}
