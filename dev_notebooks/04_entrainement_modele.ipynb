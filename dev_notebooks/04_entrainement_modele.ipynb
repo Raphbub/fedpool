{
 "cells": [
  {
   "cell_type": "markdown",
   "metadata": {},
   "source": [
    "# 4. Entraînement du modèle sur les images sélectionnées"
   ]
  },
  {
   "cell_type": "markdown",
   "metadata": {},
   "source": [
    "Préparation de la configuration de YOLO\n",
    "\n",
    "Il faut cloner le repo yolov5 et installer les packages nécessaires. Pour faciliter l'entraînement, il est plus pratique de travailler dans le repo\n",
    "\n",
    "```bash\n",
    "git clone https://github.com/ultralytics/yolov5.git  # clone\n",
    "cd yolov5\n",
    "pip install -r requirements.txt  # install\n",
    "```"
   ]
  },
  {
   "cell_type": "code",
   "execution_count": 2,
   "metadata": {},
   "outputs": [],
   "source": [
    "import os\n",
    "import random\n",
    "import shutil"
   ]
  },
  {
   "cell_type": "markdown",
   "metadata": {},
   "source": [
    "Préparation des jdds train et val dans le dossier yolov5/modele et de la structure"
   ]
  },
  {
   "cell_type": "code",
   "execution_count": 12,
   "metadata": {},
   "outputs": [],
   "source": [
    "# Structure\n",
    "model_path = \"../yolov5/modele/\"\n",
    "os.makedirs(model_path, exist_ok=True)\n",
    "\n",
    "for dir in [\"train\", \"valid\"]:\n",
    "    for subdir in [\"images\", \"labels\"]:\n",
    "        os.makedirs(os.path.join(model_path, dir, subdir), exist_ok=True)"
   ]
  },
  {
   "cell_type": "code",
   "execution_count": 4,
   "metadata": {},
   "outputs": [],
   "source": [
    "# Pour obtenir les mêmes distributions\n",
    "random.seed(1234)\n",
    "# Récupérer les noms d'image annotées\n",
    "annotated_images_names = os.listdir(\"../data/annotations/images/\")\n",
    "# Mélanger les noms\n",
    "random.shuffle(annotated_images_names)\n",
    "\n",
    "# Utiliser un split 85/15\n",
    "split_index = int(0.85 * len(annotated_images_names))\n",
    "train_images = annotated_images_names[:split_index]\n",
    "valid_images = annotated_images_names[split_index:]\n",
    "\n",
    "# Copier les fichiers dans le dossier yolov5\n",
    "train_dir = \"../yolov5/modele/train/\"\n",
    "valid_dir = \"../yolov5/modele/valid/\"\n",
    "\n",
    "# Copier selon les noms dans le bon dossier\n",
    "def copy_images(image_list, source_dir, target_dir):\n",
    "    for image_name in image_list:\n",
    "        # Définir le nom du label\n",
    "        lab_name = image_name.replace(\"jpg\", \"txt\")\n",
    "\n",
    "        # Définir les chemins d'origine\n",
    "        im_path = os.path.join(source_dir, \"images\", image_name)\n",
    "        lab_path = os.path.join(source_dir, \"labels\", lab_name)\n",
    "\n",
    "        # Définir les chemins de destination\n",
    "        im_target_path = os.path.join(target_dir, \"images\", image_name)\n",
    "        lab_target_path = os.path.join(target_dir, \"labels\", lab_name)\n",
    "\n",
    "        # Copier les images\n",
    "        shutil.copy(im_path, im_target_path)\n",
    "        shutil.copy(lab_path, lab_target_path)\n",
    "\n",
    "# Copier les images\n",
    "copy_images(train_images, \"../data/annotations\", train_dir)\n",
    "copy_images(valid_images, \"../data/annotations\", valid_dir)"
   ]
  },
  {
   "cell_type": "markdown",
   "metadata": {},
   "source": [
    "Statistiques du nombre de piscines dans chaque set (1 ligne par objet)"
   ]
  },
  {
   "cell_type": "code",
   "execution_count": 5,
   "metadata": {},
   "outputs": [
    {
     "name": "stdout",
     "output_type": "stream",
     "text": [
      "Piscines entraînement: 612\n",
      "Piscines validation: 99\n"
     ]
    }
   ],
   "source": [
    "def count_lines_in_file(file_path):\n",
    "    with open(file_path, 'r') as file:\n",
    "        return sum(1 for line in file)\n",
    "\n",
    "def count_lines_in_directory(directory_path):\n",
    "    total_lines = 0\n",
    "    for root, _, files in os.walk(directory_path):\n",
    "        for file in files:\n",
    "            if file.endswith('.txt'):\n",
    "                file_path = os.path.join(root, file)\n",
    "                total_lines += count_lines_in_file(file_path)\n",
    "    return total_lines\n",
    "\n",
    "training_lines = count_lines_in_directory(os.path.join(train_dir, \"labels\"))\n",
    "validation_lines = count_lines_in_directory(os.path.join(valid_dir, \"labels\"))\n",
    "\n",
    "print(f\"Piscines entraînement: {training_lines}\")\n",
    "print(f\"Piscines validation: {validation_lines}\")"
   ]
  },
  {
   "cell_type": "markdown",
   "metadata": {},
   "source": [
    "On déplace le cd dans le dir yolov5"
   ]
  },
  {
   "cell_type": "code",
   "execution_count": 2,
   "metadata": {},
   "outputs": [
    {
     "name": "stdout",
     "output_type": "stream",
     "text": [
      "c:\\Users\\rbubloz\\Documents\\Uni\\MA_ISH\\cours\\02_traitim\\seminaire\\fedpool\\yolov5\n"
     ]
    }
   ],
   "source": [
    "%cd ../yolov5"
   ]
  },
  {
   "cell_type": "markdown",
   "metadata": {},
   "source": [
    "Définir la configuration pour les données et les hyperparamètres"
   ]
  },
  {
   "cell_type": "code",
   "execution_count": 3,
   "metadata": {},
   "outputs": [],
   "source": [
    "import yaml\n",
    "config = {'path': 'modele', # 'absolute/path/to/dir', https://stackoverflow.com/questions/66605322/yolo-v5-issue-exception-dataset-not-found-on-local-machine\n",
    "         'train': 'modele/train',\n",
    "         'val': 'modele/valid',\n",
    "         'nc': 1,\n",
    "         'names': ['swimming_pool']}\n",
    " \n",
    "with open(\"data.yaml\", \"w\") as file:\n",
    "   yaml.dump(config, file, default_flow_style=False)\n",
    "\n",
    "# Define the data\n",
    "data_augm = {\n",
    "    'lr0': 0.01,\n",
    "    'lrf': 0.1,\n",
    "    'momentum': 0.937,\n",
    "    'weight_decay': 0.0005,\n",
    "    'warmup_epochs': 3.0,\n",
    "    'warmup_momentum': 0.8,\n",
    "    'warmup_bias_lr': 0.1,\n",
    "    'box': 0.05,\n",
    "    'cls': 0.3,\n",
    "    'cls_pw': 1.0,\n",
    "    'obj': 0.7,\n",
    "    'obj_pw': 1.0,\n",
    "    'iou_t': 0.2,\n",
    "    'anchor_t': 4.0,\n",
    "    'fl_gamma': 0.0,\n",
    "    'hsv_h': 0,\n",
    "    'hsv_s': 0,\n",
    "    'hsv_v': 0,\n",
    "    'degrees': 0.0,\n",
    "    'translate': 0,\n",
    "    'scale': 0,\n",
    "    'shear': 0,\n",
    "    'perspective': 0.0,\n",
    "    'flipud': 0.5, # Flip up-down (prob)\n",
    "    'fliplr': 0.5, # Flip left-right (prob)\n",
    "    'mosaic': 0.0,\n",
    "    'mixup': 0.0,\n",
    "    'copy_paste': 0.0\n",
    "}\n",
    "\n",
    "# Write the data to the YAML file\n",
    "with open('hyp_light_da.yaml', 'w') as file:\n",
    "    yaml.dump(data_augm, file, default_flow_style=False)"
   ]
  },
  {
   "cell_type": "markdown",
   "metadata": {},
   "source": [
    "Lancer (depuis une console python et depuis `/yolov5`) l'entraînement"
   ]
  },
  {
   "cell_type": "markdown",
   "metadata": {},
   "source": [
    "`python train.py --img 1000 --batch 4 --epochs 15 --data data.yaml --weights yolov5m.pt --workers 4 --project fedpool --name fedpool_model --exist-ok --hyp hyp_light_da.yaml`"
   ]
  },
  {
   "cell_type": "markdown",
   "metadata": {},
   "source": [
    "On trouve un aperçu des résultats dans `/fedpool_model`"
   ]
  },
  {
   "cell_type": "markdown",
   "metadata": {},
   "source": []
  }
 ],
 "metadata": {
  "kernelspec": {
   "display_name": "Python 3",
   "language": "python",
   "name": "python3"
  },
  "language_info": {
   "codemirror_mode": {
    "name": "ipython",
    "version": 3
   },
   "file_extension": ".py",
   "mimetype": "text/x-python",
   "name": "python",
   "nbconvert_exporter": "python",
   "pygments_lexer": "ipython3",
   "version": "3.12.2"
  }
 },
 "nbformat": 4,
 "nbformat_minor": 2
}
